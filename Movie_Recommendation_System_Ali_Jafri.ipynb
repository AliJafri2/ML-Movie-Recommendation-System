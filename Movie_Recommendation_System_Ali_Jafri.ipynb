{
  "nbformat": 4,
  "nbformat_minor": 0,
  "metadata": {
    "colab": {
      "provenance": []
    },
    "kernelspec": {
      "name": "python3",
      "display_name": "Python 3"
    },
    "language_info": {
      "name": "python"
    }
  },
  "cells": [
    {
      "cell_type": "code",
      "source": [
        "!pip install surprise"
      ],
      "metadata": {
        "colab": {
          "base_uri": "https://localhost:8080/"
        },
        "collapsed": true,
        "id": "Ah728o3cNsZJ",
        "outputId": "d9fc5623-1ca1-4628-faf1-e90f903fce2a"
      },
      "execution_count": 1,
      "outputs": [
        {
          "output_type": "stream",
          "name": "stdout",
          "text": [
            "Collecting surprise\n",
            "  Downloading surprise-0.1-py2.py3-none-any.whl.metadata (327 bytes)\n",
            "Collecting scikit-surprise (from surprise)\n",
            "  Downloading scikit_surprise-1.1.4.tar.gz (154 kB)\n",
            "\u001b[2K     \u001b[90m━━━━━━━━━━━━━━━━━━━━━━━━━━━━━━━━━━━━━━━━\u001b[0m \u001b[32m154.4/154.4 kB\u001b[0m \u001b[31m3.0 MB/s\u001b[0m eta \u001b[36m0:00:00\u001b[0m\n",
            "\u001b[?25h  Installing build dependencies ... \u001b[?25l\u001b[?25hdone\n",
            "  Getting requirements to build wheel ... \u001b[?25l\u001b[?25hdone\n",
            "  Preparing metadata (pyproject.toml) ... \u001b[?25l\u001b[?25hdone\n",
            "Requirement already satisfied: joblib>=1.2.0 in /usr/local/lib/python3.10/dist-packages (from scikit-surprise->surprise) (1.4.2)\n",
            "Requirement already satisfied: numpy>=1.19.5 in /usr/local/lib/python3.10/dist-packages (from scikit-surprise->surprise) (1.26.4)\n",
            "Requirement already satisfied: scipy>=1.6.0 in /usr/local/lib/python3.10/dist-packages (from scikit-surprise->surprise) (1.13.1)\n",
            "Downloading surprise-0.1-py2.py3-none-any.whl (1.8 kB)\n",
            "Building wheels for collected packages: scikit-surprise\n",
            "  Building wheel for scikit-surprise (pyproject.toml) ... \u001b[?25l\u001b[?25hdone\n",
            "  Created wheel for scikit-surprise: filename=scikit_surprise-1.1.4-cp310-cp310-linux_x86_64.whl size=2357277 sha256=6f4a810ed4f1e026abba6ff87f916afe30a112bfb7fb43de417ee623c9243eaf\n",
            "  Stored in directory: /root/.cache/pip/wheels/4b/3f/df/6acbf0a40397d9bf3ff97f582cc22fb9ce66adde75bc71fd54\n",
            "Successfully built scikit-surprise\n",
            "Installing collected packages: scikit-surprise, surprise\n",
            "Successfully installed scikit-surprise-1.1.4 surprise-0.1\n"
          ]
        }
      ]
    },
    {
      "cell_type": "code",
      "source": [
        "!wget -nc http://files.grouplens.org/datasets/movielens/ml-latest-small.zip\n",
        "!unzip -o ml-latest-small.zip"
      ],
      "metadata": {
        "collapsed": true,
        "id": "c20PV3I4O1CX",
        "colab": {
          "base_uri": "https://localhost:8080/"
        },
        "outputId": "c57fd381-d2dc-4e7e-ddd1-12d29d0d6892"
      },
      "execution_count": 2,
      "outputs": [
        {
          "output_type": "stream",
          "name": "stdout",
          "text": [
            "--2024-09-30 22:42:53--  http://files.grouplens.org/datasets/movielens/ml-latest-small.zip\n",
            "Resolving files.grouplens.org (files.grouplens.org)... 128.101.65.152\n",
            "Connecting to files.grouplens.org (files.grouplens.org)|128.101.65.152|:80... connected.\n",
            "HTTP request sent, awaiting response... 200 OK\n",
            "Length: 978202 (955K) [application/zip]\n",
            "Saving to: ‘ml-latest-small.zip’\n",
            "\n",
            "ml-latest-small.zip 100%[===================>] 955.28K   957KB/s    in 1.0s    \n",
            "\n",
            "2024-09-30 22:42:55 (957 KB/s) - ‘ml-latest-small.zip’ saved [978202/978202]\n",
            "\n",
            "Archive:  ml-latest-small.zip\n",
            "   creating: ml-latest-small/\n",
            "  inflating: ml-latest-small/links.csv  \n",
            "  inflating: ml-latest-small/tags.csv  \n",
            "  inflating: ml-latest-small/ratings.csv  \n",
            "  inflating: ml-latest-small/README.txt  \n",
            "  inflating: ml-latest-small/movies.csv  \n"
          ]
        }
      ]
    },
    {
      "cell_type": "code",
      "source": [
        "import pandas as pd\n",
        "from surprise import SVD, Dataset, Reader\n",
        "from surprise.model_selection import train_test_split\n",
        "from sklearn.feature_extraction.text import TfidfVectorizer\n",
        "from sklearn.metrics.pairwise import cosine_similarity\n",
        "import difflib\n",
        "\n",
        "#loads the movies from the dataset\n",
        "movies = pd.read_csv('ml-latest-small/movies.csv')\n",
        "ratings = pd.read_csv('ml-latest-small/ratings.csv')\n",
        "data = pd.merge(ratings, movies, on='movieId')"
      ],
      "metadata": {
        "collapsed": true,
        "id": "NNbx8JvMO5bJ"
      },
      "execution_count": 3,
      "outputs": []
    },
    {
      "cell_type": "code",
      "source": [
        "# prep the dataset\n",
        "reader = Reader(rating_scale=(0.5, 5.0))\n",
        "surprise_data = Dataset.load_from_df(ratings[['userId', 'movieId', 'rating']], reader)\n",
        "\n",
        "# splits the data set into training and test\n",
        "trainset, testset = train_test_split(surprise_data, test_size=0.25)\n",
        "\n",
        "# trains the machine learning model\n",
        "svd = SVD()\n",
        "svd.fit(trainset)"
      ],
      "metadata": {
        "id": "fJX-OIfKPMrN",
        "colab": {
          "base_uri": "https://localhost:8080/"
        },
        "outputId": "6bf1179a-8d04-45a6-c404-98064eb75040"
      },
      "execution_count": 4,
      "outputs": [
        {
          "output_type": "execute_result",
          "data": {
            "text/plain": [
              "<surprise.prediction_algorithms.matrix_factorization.SVD at 0x7868180991e0>"
            ]
          },
          "metadata": {},
          "execution_count": 4
        }
      ]
    },
    {
      "cell_type": "code",
      "source": [
        "# this function updates the recommendation system with new user ratings\n",
        "def rebuild_surprise_data():\n",
        "    reader = Reader(rating_scale=(0.5, 5.0))\n",
        "    global surprise_data\n",
        "    surprise_data = Dataset.load_from_df(ratings[['userId', 'movieId', 'rating']], reader)"
      ],
      "metadata": {
        "id": "TVYrHdAsPOOy"
      },
      "execution_count": 5,
      "outputs": []
    },
    {
      "cell_type": "code",
      "source": [
        "# function to search for a movie by title and help fix typos\n",
        "def search_movie(title):\n",
        "    matching_movies = movies[movies['title'].str.contains(title, case=False, na=False)]\n",
        "\n",
        "    if matching_movies.empty:\n",
        "        close_matches = difflib.get_close_matches(title, movies['title'], n=5, cutoff=0.6)\n",
        "        if close_matches:\n",
        "            print(f\"\\nDid you mean one of these?\")\n",
        "            for i, match in enumerate(close_matches, 1):\n",
        "                print(f\"{i}. {match}\")\n",
        "            return None, close_matches\n",
        "        else:\n",
        "            return None, []\n",
        "    return matching_movies[['movieId', 'title']], []\n",
        "\n",
        "# this function keeps asking for a movie title until the user enters a valid one\n",
        "def search_and_select_movie():\n",
        "    while True:\n",
        "        search_title = input(\"Enter part of the movie title to search for: \")\n",
        "        matching_movies, close_matches = search_movie(search_title)\n",
        "\n",
        "        if matching_movies is not None:\n",
        "            print(\"\\nMovies found:\")\n",
        "            print(matching_movies.to_string(index=False))\n",
        "            return matching_movies\n",
        "\n",
        "        if close_matches:\n",
        "            confirmation = input(f\"Enter the number of the movie if you meant one of them, or 'no' to try again: \").strip().lower()\n",
        "            if confirmation.isdigit():\n",
        "                selected_index = int(confirmation) - 1\n",
        "                if 0 <= selected_index < len(close_matches):\n",
        "                    confirmed_movie = close_matches[selected_index]\n",
        "                    return movies[movies['title'] == confirmed_movie][['movieId', 'title']]\n",
        "\n",
        "        print(\"\\nNo valid movie found. Please try again.\")"
      ],
      "metadata": {
        "id": "E1XMJQZln4nI"
      },
      "execution_count": 6,
      "outputs": []
    },
    {
      "cell_type": "code",
      "source": [
        "# function to collect ratings from the user\n",
        "def collect_ratings(user_id):\n",
        "    user_movie_ids = []\n",
        "    user_movie_titles = []\n",
        "\n",
        "    while True:\n",
        "        # ask the user to search for a movie\n",
        "        matching_movies = search_and_select_movie()\n",
        "        selected_movie_ids = input(\"Enter the movie ID(s) you want to add to your rating list (comma separated): \").split(',')\n",
        "        for movie_id in selected_movie_ids:\n",
        "            movie_id = int(movie_id.strip())\n",
        "            user_movie_ids.append(movie_id)\n",
        "            movie_title = movies[movies['movieId'] == movie_id]['title'].values[0]\n",
        "            user_movie_titles.append(movie_title)\n",
        "\n",
        "        # asks for user ratings\n",
        "        print(\"Please enter ratings between 0.5 and 5.0, in increments of 0.5.\")\n",
        "        new_ratings = input(f\"Enter your ratings for the following movies, in the same order (comma separated): {user_movie_titles}: \").split(',')\n",
        "\n",
        "        new_ratings_df = pd.DataFrame({\n",
        "            'userId': [user_id] * len(user_movie_ids),\n",
        "            'movieId': [int(movie_id) for movie_id in user_movie_ids],\n",
        "            'rating': [float(rating) for rating in new_ratings],\n",
        "            'timestamp': [0] * len(user_movie_ids)\n",
        "        })\n",
        "        global ratings\n",
        "        ratings = pd.concat([ratings, new_ratings_df], ignore_index=True)\n",
        "\n",
        "        print(\"\\nYour ratings have been successfully added:\")\n",
        "        print(ratings.tail())\n",
        "\n",
        "        more_ratings = input(\"Would you like to rate another movie? (yes/no): \").strip().lower()\n",
        "        if more_ratings == 'no':\n",
        "            break"
      ],
      "metadata": {
        "id": "K9AmisSPn8mG"
      },
      "execution_count": 7,
      "outputs": []
    },
    {
      "cell_type": "code",
      "source": [
        "# function to recommend movies based on the genres of movies the user has already rated highly\n",
        "def get_content_based_recommendations(user_id, n=5):\n",
        "    user_highly_rated_movies = ratings[(ratings['userId'] == user_id) & (ratings['rating'] >= 4.0)]\n",
        "\n",
        "    if len(user_highly_rated_movies) < 5:\n",
        "        print(f\"User '{user_id}' needs to rate at least 5 movies to receive content-based recommendations.\")\n",
        "        return []\n",
        "    print(\"\\nContent-Based Filtering: These recommendations are based on the genres of movies you rated highly. We recommend movies with similar content features (genres).\")\n",
        "\n",
        "    user_movie_indices = []\n",
        "    for movie_id in user_highly_rated_movies['movieId']:\n",
        "        user_movie_indices.append(movies[movies['movieId'] == movie_id].index[0])\n",
        "\n",
        "    tfidf = TfidfVectorizer(stop_words='english')\n",
        "    tfidf_matrix = tfidf.fit_transform(movies['genres'])\n",
        "    cosine_sim = cosine_similarity(tfidf_matrix, tfidf_matrix)\n",
        "\n",
        "    similarity_scores = cosine_sim[user_movie_indices].mean(axis=0)\n",
        "\n",
        "    sim_scores = list(enumerate(similarity_scores))\n",
        "    sim_scores = sorted(sim_scores, key=lambda x: x[1], reverse=True)\n",
        "\n",
        "    top_n_movie_indices = [i[0] for i in sim_scores[:n]]\n",
        "    recommended_movies = movies['title'].iloc[top_n_movie_indices]\n",
        "\n",
        "    # Display the recommendations\n",
        "    print(\"\\nContent-based recommendations based on genres:\")\n",
        "    for i, movie in enumerate(recommended_movies, 1):\n",
        "        print(f\"{i}. {movie}\")"
      ],
      "metadata": {
        "collapsed": true,
        "id": "vUF2P7Own-V9"
      },
      "execution_count": 8,
      "outputs": []
    },
    {
      "cell_type": "code",
      "source": [
        "# function to get recommendations based on what other similar users liked\n",
        "def get_top_n_recommendations(user_id, n=5):\n",
        "    if user_id not in ratings['userId'].unique():\n",
        "        print(f\"User '{user_id}' does not exist. Please provide ratings first.\")\n",
        "        return\n",
        "\n",
        "    user_rated_movies = ratings[ratings['userId'] == user_id]['movieId']\n",
        "\n",
        "    if len(user_rated_movies) < 5:\n",
        "        print(f\"User '{user_id}' needs to rate at least 5 movies to receive personalized recommendations.\")\n",
        "        return\n",
        "\n",
        "    print(\"\\nCollaborative Filtering: These recommendations are based on the preferences of users similar to you, who liked movies you rated highly.\")\n",
        "\n",
        "    # recommend movies that other users similar to the current user liked\n",
        "    predictions = []\n",
        "    all_movie_ids = ratings['movieId'].unique()\n",
        "\n",
        "    for movie_id in all_movie_ids:\n",
        "        if movie_id not in user_rated_movies.values:\n",
        "            predicted_rating = svd.predict(user_id, movie_id).est\n",
        "            predictions.append((movie_id, predicted_rating))\n",
        "\n",
        "    predictions.sort(key=lambda x: x[1], reverse=True)\n",
        "\n",
        "    top_n_movie_ids = [movie_id for movie_id, rating in predictions[:n]]\n",
        "\n",
        "    recommended_movies = movies[movies['movieId'].isin(top_n_movie_ids)]['title'].tolist()\n",
        "\n",
        "    print(f\"\\nCollaborative filtering recommendations for '{user_id}':\")\n",
        "    for i, movie in enumerate(recommended_movies, 1):\n",
        "        print(f\"{i}. {movie}\")"
      ],
      "metadata": {
        "id": "DOX9p1P493_J"
      },
      "execution_count": 9,
      "outputs": []
    },
    {
      "cell_type": "code",
      "source": [
        "# main function to run the system\n",
        "def main():\n",
        "    # ask the user to enter their name as a user id\n",
        "    user_id = input(\"Enter your user ID (name): \")\n",
        "\n",
        "    print(\"\\nYou must rate at least 5 movies.\")\n",
        "    collect_ratings(user_id)\n",
        "\n",
        "    # retrain the recommendation model with the new ratings\n",
        "    rebuild_surprise_data()\n",
        "    trainset, testset = train_test_split(surprise_data, test_size=0.25)\n",
        "    svd.fit(trainset)\n",
        "\n",
        "    get_top_n_recommendations(user_id, n=5)\n",
        "    get_content_based_recommendations(user_id, n=5)\n",
        "\n",
        "main()"
      ],
      "metadata": {
        "colab": {
          "base_uri": "https://localhost:8080/"
        },
        "id": "3oW1nrH0-FR5",
        "outputId": "97fafd2a-f243-4769-d408-0c22a0162bab"
      },
      "execution_count": 10,
      "outputs": [
        {
          "output_type": "stream",
          "name": "stdout",
          "text": [
            "Enter your user ID (name): John Doe\n",
            "\n",
            "You must rate at least 5 movies.\n",
            "Enter part of the movie title to search for: batman\n",
            "\n",
            "Movies found:\n",
            " movieId                                           title\n",
            "     153                           Batman Forever (1995)\n",
            "     592                                   Batman (1989)\n",
            "    1377                           Batman Returns (1992)\n",
            "    1562                           Batman & Robin (1997)\n",
            "    3213             Batman: Mask of the Phantasm (1993)\n",
            "   26152                                   Batman (1966)\n",
            "   27155               Batman/Superman Movie, The (1998)\n",
            "   27311       Batman Beyond: Return of the Joker (2000)\n",
            "   33794                            Batman Begins (2005)\n",
            "   60979                    Batman: Gotham Knight (2008)\n",
            "   79274               Batman: Under the Red Hood (2010)\n",
            "   90603                         Batman: Year One (2011)\n",
            "   95149          Superman/Batman: Public Enemies (2009)\n",
            "   98124  Batman: The Dark Knight Returns, Part 1 (2012)\n",
            "   99813  Batman: The Dark Knight Returns, Part 2 (2013)\n",
            "  103233 LEGO Batman: The Movie - DC Heroes Unite (2013)\n",
            "  104141          Batman: Mystery of the Batwoman (2003)\n",
            "  113278                Batman: Assault on Arkham (2014)\n",
            "  131739                         Batman vs. Robin (2015)\n",
            "  136864       Batman v Superman: Dawn of Justice (2016)\n",
            "  161354                 Batman: The Killing Joke (2016)\n",
            "  167746                    The Lego Batman Movie (2017)\n",
            "Enter the movie ID(s) you want to add to your rating list (comma separated): 79274,1562,90603\n",
            "Please enter ratings between 0.5 and 5.0, in increments of 0.5.\n",
            "Enter your ratings for the following movies, in the same order (comma separated): ['Batman: Under the Red Hood (2010)', 'Batman & Robin (1997)', 'Batman: Year One (2011)']: 5,5,3.5\n",
            "\n",
            "Your ratings have been successfully added:\n",
            "          userId  movieId  rating   timestamp\n",
            "100834       610   168252     5.0  1493846352\n",
            "100835       610   170875     3.0  1493846415\n",
            "100836  John Doe    79274     5.0           0\n",
            "100837  John Doe     1562     5.0           0\n",
            "100838  John Doe    90603     3.5           0\n",
            "Would you like to rate another movie? (yes/no): yes\n",
            "Enter part of the movie title to search for: school of rock\n",
            "\n",
            "Movies found:\n",
            " movieId                 title\n",
            "    6863 School of Rock (2003)\n",
            "Enter the movie ID(s) you want to add to your rating list (comma separated): 6863\n",
            "Please enter ratings between 0.5 and 5.0, in increments of 0.5.\n",
            "Enter your ratings for the following movies, in the same order (comma separated): ['Batman: Under the Red Hood (2010)', 'Batman & Robin (1997)', 'Batman: Year One (2011)', 'School of Rock (2003)']: 5,5,3.5,5\n",
            "\n",
            "Your ratings have been successfully added:\n",
            "          userId  movieId  rating  timestamp\n",
            "100838  John Doe    90603     3.5          0\n",
            "100839  John Doe    79274     5.0          0\n",
            "100840  John Doe     1562     5.0          0\n",
            "100841  John Doe    90603     3.5          0\n",
            "100842  John Doe     6863     5.0          0\n",
            "Would you like to rate another movie? (yes/no): yes\n",
            "Enter part of the movie title to search for: Ratatouille\n",
            "\n",
            "Movies found:\n",
            " movieId              title\n",
            "   50872 Ratatouille (2007)\n",
            "Enter the movie ID(s) you want to add to your rating list (comma separated): 50872\n",
            "Please enter ratings between 0.5 and 5.0, in increments of 0.5.\n",
            "Enter your ratings for the following movies, in the same order (comma separated): ['Batman: Under the Red Hood (2010)', 'Batman & Robin (1997)', 'Batman: Year One (2011)', 'School of Rock (2003)', 'Ratatouille (2007)']: 5,5,3.5,5,4.5\n",
            "\n",
            "Your ratings have been successfully added:\n",
            "          userId  movieId  rating  timestamp\n",
            "100843  John Doe    79274     5.0          0\n",
            "100844  John Doe     1562     5.0          0\n",
            "100845  John Doe    90603     3.5          0\n",
            "100846  John Doe     6863     5.0          0\n",
            "100847  John Doe    50872     4.5          0\n",
            "Would you like to rate another movie? (yes/no): no\n",
            "\n",
            "Collaborative Filtering: These recommendations are based on the preferences of users similar to you, who liked movies you rated highly.\n",
            "\n",
            "Collaborative filtering recommendations for 'John Doe':\n",
            "1. Monty Python and the Holy Grail (1975)\n",
            "2. Apocalypse Now (1979)\n",
            "3. Goodfellas (1990)\n",
            "4. Full Metal Jacket (1987)\n",
            "5. Young Frankenstein (1974)\n",
            "\n",
            "Content-Based Filtering: These recommendations are based on the genres of movies you rated highly. We recommend movies with similar content features (genres).\n",
            "\n",
            "Content-based recommendations based on genres:\n",
            "1. Ninja Scroll (Jûbei ninpûchô) (1995)\n",
            "2. Dragon Ball Z: Bojack Unbound (Doragon bôru Z 9: Ginga girigiri!! Butchigiri no sugoi yatsu) (1993)\n",
            "3. Wonder Woman (2009)\n",
            "4. Dragon Ball Z: Resurrection of F (2015)\n",
            "5. Princess Mononoke (Mononoke-hime) (1997)\n"
          ]
        }
      ]
    }
  ]
}